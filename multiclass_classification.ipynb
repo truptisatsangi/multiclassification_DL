{
  "nbformat": 4,
  "nbformat_minor": 0,
  "metadata": {
    "colab": {
      "name": "multiclass_classification.ipynb",
      "provenance": [],
      "collapsed_sections": [],
      "authorship_tag": "ABX9TyNcy/cyf28LEyjlGwVt2Y7c"
    },
    "kernelspec": {
      "name": "python3",
      "display_name": "Python 3"
    }
  },
  "cells": [
    {
      "cell_type": "code",
      "metadata": {
        "id": "uT7lFO0IXAir",
        "colab_type": "code",
        "colab": {}
      },
      "source": [
        "# # # classify Reuters newswires into 46 mutually exclusive topics. # # #"
      ],
      "execution_count": 60,
      "outputs": []
    },
    {
      "cell_type": "code",
      "metadata": {
        "id": "FrOdLidLWU99",
        "colab_type": "code",
        "colab": {}
      },
      "source": [
        "# LOADING DATA\n",
        "from keras.datasets import reuters\n",
        "(train_data,train_labels), (test_data, test_labels) = reuters.load_data(num_words = 10000)\n"
      ],
      "execution_count": 61,
      "outputs": []
    },
    {
      "cell_type": "code",
      "metadata": {
        "id": "Jwu4e2TCalnX",
        "colab_type": "code",
        "colab": {
          "base_uri": "https://localhost:8080/",
          "height": 50
        },
        "outputId": "d1ff6ae2-4125-4a30-c4e1-6e5754359721"
      },
      "source": [
        "print(len(train_data))\n",
        "len(test_data)"
      ],
      "execution_count": 62,
      "outputs": [
        {
          "output_type": "stream",
          "text": [
            "8982\n"
          ],
          "name": "stdout"
        },
        {
          "output_type": "execute_result",
          "data": {
            "text/plain": [
              "2246"
            ]
          },
          "metadata": {
            "tags": []
          },
          "execution_count": 62
        }
      ]
    },
    {
      "cell_type": "code",
      "metadata": {
        "id": "_EXzRQwKbDKv",
        "colab_type": "code",
        "colab": {
          "base_uri": "https://localhost:8080/",
          "height": 538
        },
        "outputId": "65a5b988-80ab-4a66-8dc4-a023a00affc6"
      },
      "source": [
        "train_data[10]"
      ],
      "execution_count": 63,
      "outputs": [
        {
          "output_type": "execute_result",
          "data": {
            "text/plain": [
              "[1,\n",
              " 245,\n",
              " 273,\n",
              " 207,\n",
              " 156,\n",
              " 53,\n",
              " 74,\n",
              " 160,\n",
              " 26,\n",
              " 14,\n",
              " 46,\n",
              " 296,\n",
              " 26,\n",
              " 39,\n",
              " 74,\n",
              " 2979,\n",
              " 3554,\n",
              " 14,\n",
              " 46,\n",
              " 4689,\n",
              " 4329,\n",
              " 86,\n",
              " 61,\n",
              " 3499,\n",
              " 4795,\n",
              " 14,\n",
              " 61,\n",
              " 451,\n",
              " 4329,\n",
              " 17,\n",
              " 12]"
            ]
          },
          "metadata": {
            "tags": []
          },
          "execution_count": 63
        }
      ]
    },
    {
      "cell_type": "code",
      "metadata": {
        "id": "YI_4-Z7xbOcn",
        "colab_type": "code",
        "colab": {
          "base_uri": "https://localhost:8080/",
          "height": 34
        },
        "outputId": "bed87969-1ae7-458d-ead3-37e570b8b734"
      },
      "source": [
        "train_labels[10]"
      ],
      "execution_count": 64,
      "outputs": [
        {
          "output_type": "execute_result",
          "data": {
            "text/plain": [
              "3"
            ]
          },
          "metadata": {
            "tags": []
          },
          "execution_count": 64
        }
      ]
    },
    {
      "cell_type": "code",
      "metadata": {
        "id": "NqOHvnRkbr--",
        "colab_type": "code",
        "colab": {}
      },
      "source": [
        "# VECTORIZE THE DATA\n",
        "\n",
        "import numpy as np\n",
        "def vectorize_sequences(sequences, dimension=10000):\n",
        "  results = np.zeros((len(sequences), dimension))\n",
        "  for i, sequence in enumerate(sequences):\n",
        "    results[i, sequence] = 1.\n",
        "  return results\n",
        "x_train = vectorize_sequences(train_data)\n",
        "x_test = vectorize_sequences(test_data)"
      ],
      "execution_count": 65,
      "outputs": []
    },
    {
      "cell_type": "code",
      "metadata": {
        "id": "XEEN2gMcdvU9",
        "colab_type": "code",
        "colab": {}
      },
      "source": [
        "# VECTORIZE LABELS USING ONE HOT ENCODING\n",
        "\n",
        "# def to_one_hot(labels, dimension=46):\n",
        "#   results = np.zeros((len(labels), dimension))\n",
        "#   for i, label in enumerate(labels):\n",
        "#     results[i, label] = 1.\n",
        "#   return results\n",
        "# one_hot_train_labels = to_one_hot(train_labels)\n",
        "# one_hot_test_labels = to_one_hot(test_labels)\n",
        "\n",
        "from keras.utils.np_utils import to_categorical\n",
        "one_hot_train_labels = to_categorical(train_labels)\n",
        "one_hot_test_labels = to_categorical(test_labels)"
      ],
      "execution_count": 66,
      "outputs": []
    },
    {
      "cell_type": "code",
      "metadata": {
        "id": "PlAE4k2Ue7k5",
        "colab_type": "code",
        "colab": {}
      },
      "source": [
        "# BUILDING THE MODEL\n",
        "from keras import models\n",
        "from keras import layers\n",
        "model = models.Sequential()\n",
        "model.add(layers.Dense(64, activation = 'relu', input_shape = (10000,)))\n",
        "model.add(layers.Dense(64, activation = 'relu'))\n",
        "model.add(layers.Dense(46, activation = 'softmax'))\n",
        "\n",
        "\n"
      ],
      "execution_count": 67,
      "outputs": []
    },
    {
      "cell_type": "code",
      "metadata": {
        "id": "D50Py3kBhXCN",
        "colab_type": "code",
        "colab": {}
      },
      "source": [
        "# COMPILING THE MODEL\n",
        "model.compile(optimizer = 'rmsprop', loss = 'categorical_crossentropy',\n",
        "              metrics = ['accuracy'])"
      ],
      "execution_count": 68,
      "outputs": []
    },
    {
      "cell_type": "code",
      "metadata": {
        "id": "AHCLUoFyhe81",
        "colab_type": "code",
        "colab": {}
      },
      "source": [
        "# SETTING ASIDE THE VALIDATION SET\n",
        "x_val = x_train[1000:]\n",
        "partial_x_train = x_train[:1000]\n",
        "\n",
        "y_val = one_hot_train_labels[1000:]\n",
        "partial_y_train = one_hot_train_labels[:1000]"
      ],
      "execution_count": 69,
      "outputs": []
    },
    {
      "cell_type": "code",
      "metadata": {
        "id": "vM36_PoR26aS",
        "colab_type": "code",
        "colab": {
          "base_uri": "https://localhost:8080/",
          "height": 689
        },
        "outputId": "98e94903-34de-4c2c-9779-338aa700027c"
      },
      "source": [
        "# FITTING THE MODEL\n",
        "\n",
        "history = model.fit(partial_x_train,partial_y_train,epochs=20,batch_size=512,\n",
        "                      validation_data=(x_val, y_val))"
      ],
      "execution_count": 70,
      "outputs": [
        {
          "output_type": "stream",
          "text": [
            "Epoch 1/20\n",
            "2/2 [==============================] - 1s 426ms/step - loss: 3.6916 - accuracy: 0.2540 - val_loss: 3.3442 - val_accuracy: 0.5079\n",
            "Epoch 2/20\n",
            "2/2 [==============================] - 0s 166ms/step - loss: 3.1025 - accuracy: 0.5470 - val_loss: 2.9046 - val_accuracy: 0.5272\n",
            "Epoch 3/20\n",
            "2/2 [==============================] - 0s 163ms/step - loss: 2.5636 - accuracy: 0.5580 - val_loss: 2.5654 - val_accuracy: 0.5248\n",
            "Epoch 4/20\n",
            "2/2 [==============================] - 0s 159ms/step - loss: 2.1136 - accuracy: 0.6100 - val_loss: 2.2839 - val_accuracy: 0.5421\n",
            "Epoch 5/20\n",
            "2/2 [==============================] - 0s 166ms/step - loss: 1.7555 - accuracy: 0.6670 - val_loss: 2.0864 - val_accuracy: 0.5588\n",
            "Epoch 6/20\n",
            "2/2 [==============================] - 0s 162ms/step - loss: 1.4786 - accuracy: 0.7260 - val_loss: 1.9196 - val_accuracy: 0.6029\n",
            "Epoch 7/20\n",
            "2/2 [==============================] - 0s 159ms/step - loss: 1.2578 - accuracy: 0.7810 - val_loss: 1.8147 - val_accuracy: 0.6158\n",
            "Epoch 8/20\n",
            "2/2 [==============================] - 0s 161ms/step - loss: 1.0861 - accuracy: 0.8150 - val_loss: 1.7210 - val_accuracy: 0.6327\n",
            "Epoch 9/20\n",
            "2/2 [==============================] - 0s 169ms/step - loss: 0.9403 - accuracy: 0.8430 - val_loss: 1.6486 - val_accuracy: 0.6462\n",
            "Epoch 10/20\n",
            "2/2 [==============================] - 0s 165ms/step - loss: 0.8177 - accuracy: 0.8670 - val_loss: 1.5901 - val_accuracy: 0.6582\n",
            "Epoch 11/20\n",
            "2/2 [==============================] - 0s 162ms/step - loss: 0.7166 - accuracy: 0.8830 - val_loss: 1.5463 - val_accuracy: 0.6666\n",
            "Epoch 12/20\n",
            "2/2 [==============================] - 0s 173ms/step - loss: 0.6338 - accuracy: 0.9020 - val_loss: 1.5073 - val_accuracy: 0.6741\n",
            "Epoch 13/20\n",
            "2/2 [==============================] - 0s 165ms/step - loss: 0.5594 - accuracy: 0.9130 - val_loss: 1.4897 - val_accuracy: 0.6738\n",
            "Epoch 14/20\n",
            "2/2 [==============================] - 0s 162ms/step - loss: 0.4966 - accuracy: 0.9280 - val_loss: 1.4543 - val_accuracy: 0.6857\n",
            "Epoch 15/20\n",
            "2/2 [==============================] - 0s 164ms/step - loss: 0.4413 - accuracy: 0.9450 - val_loss: 1.4394 - val_accuracy: 0.6872\n",
            "Epoch 16/20\n",
            "2/2 [==============================] - 0s 165ms/step - loss: 0.3911 - accuracy: 0.9590 - val_loss: 1.4233 - val_accuracy: 0.6892\n",
            "Epoch 17/20\n",
            "2/2 [==============================] - 0s 159ms/step - loss: 0.3498 - accuracy: 0.9670 - val_loss: 1.4059 - val_accuracy: 0.6946\n",
            "Epoch 18/20\n",
            "2/2 [==============================] - 0s 162ms/step - loss: 0.3110 - accuracy: 0.9680 - val_loss: 1.3984 - val_accuracy: 0.6939\n",
            "Epoch 19/20\n",
            "2/2 [==============================] - 0s 159ms/step - loss: 0.2775 - accuracy: 0.9720 - val_loss: 1.3873 - val_accuracy: 0.6989\n",
            "Epoch 20/20\n",
            "2/2 [==============================] - 0s 160ms/step - loss: 0.2477 - accuracy: 0.9740 - val_loss: 1.3868 - val_accuracy: 0.7008\n"
          ],
          "name": "stdout"
        }
      ]
    },
    {
      "cell_type": "code",
      "metadata": {
        "id": "l0R0hvPYJjin",
        "colab_type": "code",
        "colab": {
          "base_uri": "https://localhost:8080/",
          "height": 34
        },
        "outputId": "8383b89f-9f7e-47a5-a41a-b6fffc17092b"
      },
      "source": [
        "history_dict = history.history\n",
        "history_dict.keys()"
      ],
      "execution_count": 71,
      "outputs": [
        {
          "output_type": "execute_result",
          "data": {
            "text/plain": [
              "dict_keys(['loss', 'accuracy', 'val_loss', 'val_accuracy'])"
            ]
          },
          "metadata": {
            "tags": []
          },
          "execution_count": 71
        }
      ]
    },
    {
      "cell_type": "code",
      "metadata": {
        "id": "3FcwZ8MZ8mE-",
        "colab_type": "code",
        "colab": {
          "base_uri": "https://localhost:8080/",
          "height": 312
        },
        "outputId": "a0e0758e-615a-44fe-cdf3-f4f879bff08b"
      },
      "source": [
        "# PLOTTING LOSS  OF TRAINING ND VALIDATION \n",
        "import matplotlib.pyplot as plt\n",
        "train_loss = history.history['loss']\n",
        "val_loss = history.history['val_loss']\n",
        "epochs = range(1,len(train_loss)+1)\n",
        "print(epochs)\n",
        "plt.plot(epochs, train_loss, 'bo', label = 'Training loss' )\n",
        "# plt.yticks(np.arange(0,7, 0.5))\n",
        "plt.plot(epochs, val_loss,'b', label = 'Validation loss')\n",
        "plt.title('TRAINING AND VALIDATION LOSS')\n",
        "plt.xlabel('epochs')\n",
        "plt.ylabel('loss')\n",
        "plt.legend()\n",
        "plt.show()"
      ],
      "execution_count": 72,
      "outputs": [
        {
          "output_type": "stream",
          "text": [
            "range(1, 21)\n"
          ],
          "name": "stdout"
        },
        {
          "output_type": "display_data",
          "data": {
            "image/png": "[encoded data removed]",
            "text/plain": [
              "<Figure size 432x288 with 1 Axes>"
            ]
          },
          "metadata": {
            "tags": [],
            "needs_background": "light"
          }
        }
      ]
    },
    {
      "cell_type": "code",
      "metadata": {
        "id": "UX_b41-RJoRg",
        "colab_type": "code",
        "colab": {
          "base_uri": "https://localhost:8080/",
          "height": 295
        },
        "outputId": "59b97eaf-a696-4906-b04e-0ba6a46802b6"
      },
      "source": [
        "# PLOTTING ACCURACY OF TRAINING AND VALIDTION SET\n",
        "plt.clf()\n",
        "acc = history.history['accuracy']\n",
        "val_acc = history.history['val_accuracy']\n",
        "plt.plot(epochs, acc, 'bo', label='Training acc')\n",
        "plt.plot(epochs, val_acc, 'b', label='Validation acc')\n",
        "plt.title('Training and validation accuracy')\n",
        "plt.xlabel('Epochs')\n",
        "plt.ylabel('Loss')\n",
        "plt.legend()\n",
        "plt.show()"
      ],
      "execution_count": 73,
      "outputs": [
        {
          "output_type": "display_data",
          "data": {
            "image/png": "[encoded data removed]",
            "text/plain": [
              "<Figure size 432x288 with 1 Axes>"
            ]
          },
          "metadata": {
            "tags": [],
            "needs_background": "light"
          }
        }
      ]
    },
    {
      "cell_type": "code",
      "metadata": {
        "id": "raJF1NNPXhyN",
        "colab_type": "code",
        "colab": {
          "base_uri": "https://localhost:8080/",
          "height": 655
        },
        "outputId": "39ef0d8e-8b1d-46a5-e4cd-5e5cadaf4348"
      },
      "source": [
        "#RECREATING THE MODEL FROM SCRATCH\n",
        "model = models.Sequential()\n",
        "model.add(layers.Dense(128, activation = 'relu', input_shape = (10000,)))\n",
        "model.add(layers.Dense(128, activation = 'relu'))\n",
        "model.add(layers.Dense(128, activation = 'relu'))\n",
        "model.add(layers.Dense(46, activation = 'softmax'))\n",
        "\n",
        "model.compile(optimizer='rmsprop', loss = 'categorical_crossentropy', metrics=['accuracy'])\n",
        "\n",
        "model.fit(partial_x_train, partial_y_train, batch_size=512, epochs= 18, validation_data=(x_val, y_val))\n",
        "results = model.evaluate(x_test, one_hot_test_labels)\n",
        "results"
      ],
      "execution_count": 74,
      "outputs": [
        {
          "output_type": "stream",
          "text": [
            "Epoch 1/18\n",
            "2/2 [==============================] - 1s 376ms/step - loss: 3.7427 - accuracy: 0.2200 - val_loss: 3.2569 - val_accuracy: 0.5106\n",
            "Epoch 2/18\n",
            "2/2 [==============================] - 1s 269ms/step - loss: 2.9345 - accuracy: 0.5480 - val_loss: 2.4135 - val_accuracy: 0.5293\n",
            "Epoch 3/18\n",
            "2/2 [==============================] - 1s 261ms/step - loss: 2.0417 - accuracy: 0.5780 - val_loss: 2.1110 - val_accuracy: 0.5768\n",
            "Epoch 4/18\n",
            "2/2 [==============================] - 1s 262ms/step - loss: 1.5942 - accuracy: 0.6620 - val_loss: 2.0266 - val_accuracy: 0.5084\n",
            "Epoch 5/18\n",
            "2/2 [==============================] - 1s 259ms/step - loss: 1.3672 - accuracy: 0.6610 - val_loss: 1.6897 - val_accuracy: 0.6149\n",
            "Epoch 6/18\n",
            "2/2 [==============================] - 1s 257ms/step - loss: 1.0248 - accuracy: 0.7660 - val_loss: 1.5604 - val_accuracy: 0.6589\n",
            "Epoch 7/18\n",
            "2/2 [==============================] - 1s 264ms/step - loss: 0.8223 - accuracy: 0.8210 - val_loss: 1.4873 - val_accuracy: 0.6823\n",
            "Epoch 8/18\n",
            "2/2 [==============================] - 1s 258ms/step - loss: 0.6723 - accuracy: 0.8570 - val_loss: 1.4482 - val_accuracy: 0.6879\n",
            "Epoch 9/18\n",
            "2/2 [==============================] - 1s 265ms/step - loss: 0.5571 - accuracy: 0.8900 - val_loss: 1.4116 - val_accuracy: 0.6986\n",
            "Epoch 10/18\n",
            "2/2 [==============================] - 1s 259ms/step - loss: 0.4549 - accuracy: 0.9080 - val_loss: 1.3728 - val_accuracy: 0.7032\n",
            "Epoch 11/18\n",
            "2/2 [==============================] - 1s 264ms/step - loss: 0.3696 - accuracy: 0.9380 - val_loss: 1.3560 - val_accuracy: 0.7075\n",
            "Epoch 12/18\n",
            "2/2 [==============================] - 1s 266ms/step - loss: 0.3041 - accuracy: 0.9620 - val_loss: 1.3871 - val_accuracy: 0.6944\n",
            "Epoch 13/18\n",
            "2/2 [==============================] - 1s 263ms/step - loss: 0.2507 - accuracy: 0.9720 - val_loss: 1.3753 - val_accuracy: 0.7022\n",
            "Epoch 14/18\n",
            "2/2 [==============================] - 1s 264ms/step - loss: 0.2071 - accuracy: 0.9760 - val_loss: 1.3822 - val_accuracy: 0.7018\n",
            "Epoch 15/18\n",
            "2/2 [==============================] - 1s 259ms/step - loss: 0.1710 - accuracy: 0.9820 - val_loss: 1.3577 - val_accuracy: 0.7140\n",
            "Epoch 16/18\n",
            "2/2 [==============================] - 1s 259ms/step - loss: 0.1391 - accuracy: 0.9860 - val_loss: 1.3518 - val_accuracy: 0.7176\n",
            "Epoch 17/18\n",
            "2/2 [==============================] - 1s 264ms/step - loss: 0.1147 - accuracy: 0.9870 - val_loss: 1.3396 - val_accuracy: 0.7221\n",
            "Epoch 18/18\n",
            "2/2 [==============================] - 1s 255ms/step - loss: 0.0946 - accuracy: 0.9900 - val_loss: 1.3488 - val_accuracy: 0.7238\n",
            "71/71 [==============================] - 0s 4ms/step - loss: 1.3823 - accuracy: 0.7248\n"
          ],
          "name": "stdout"
        },
        {
          "output_type": "execute_result",
          "data": {
            "text/plain": [
              "[1.3822723627090454, 0.7248441576957703]"
            ]
          },
          "metadata": {
            "tags": []
          },
          "execution_count": 74
        }
      ]
    }
  ]
}